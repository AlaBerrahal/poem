{
 "cells": [
  {
   "cell_type": "markdown",
   "id": "841a8d29-83f9-46ea-b15d-1fb6fd91d2b7",
   "metadata": {},
   "source": [
    "# Example 3 - ARMAX order selection\n",
    "\n",
    "Problem description:\n",
    "* Workflow: fit and predict\n",
    "* Object : whole building\n",
    "* Time step : day\n",
    "* Data: building 1298 ?\n",
    "    * y = consumption\n",
    "    * x = outdoor air temperature\n",
    "\n",
    "Model: ARMAX"
   ]
  }
 ],
 "metadata": {
  "kernelspec": {
   "display_name": "Python 3 (ipykernel)",
   "language": "python",
   "name": "python3"
  },
  "language_info": {
   "codemirror_mode": {
    "name": "ipython",
    "version": 3
   },
   "file_extension": ".py",
   "mimetype": "text/x-python",
   "name": "python",
   "nbconvert_exporter": "python",
   "pygments_lexer": "ipython3",
   "version": "3.13.2"
  }
 },
 "nbformat": 4,
 "nbformat_minor": 5
}
