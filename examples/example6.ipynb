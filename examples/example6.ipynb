{
 "cells": [
  {
   "cell_type": "markdown",
   "id": "95c6cbb4-fa20-4615-8737-109f1db62f33",
   "metadata": {},
   "source": [
    "# Example 6 - gaussian process\n",
    "\n",
    "Problem description:\n",
    "* Workflow:\n",
    "* Object :\n",
    "* Time step :\n",
    "* Data:\n",
    "\n",
    "Model: GP"
   ]
  },
  {
   "cell_type": "code",
   "execution_count": 3,
   "id": "1e8c0afe-ceba-4dd7-b9eb-0f8f8a7eef4c",
   "metadata": {},
   "outputs": [
    {
     "name": "stdout",
     "output_type": "stream",
     "text": [
      "CmdStan install directory: C:\\Users\\rouchisi\\.cmdstan\n",
      "Installing RTools40\n",
      "C++ toolchain 'RTools' version: 4.0\n",
      "Install directory: C:\\Users\\rouchisi\\.cmdstan\n",
      "Downloading C++ toolchain: RTools40.exe\n",
      "Download successful, file: RTools40.exe\n",
      "Installing the C++ toolchain: RTools40\n",
      "RTools40.exe /SP- /SILENT /SUPPRESSMSGBOXES /CURRENTUSER LANG=\"English\" /DIR=\"Users\\rouchisi\\.cmdstan\\RTools40\" /NOICONS /NORESTART\n",
      "Installed RTools40\n",
      "pacman -Sy mingw-w64-x86_64-make --noconfirm\n"
     ]
    },
    {
     "name": "stderr",
     "output_type": "stream",
     "text": [
      "13:13:09 - cmdstanpy - INFO - Add C++ toolchain to $PATH: C:\\Users\\rouchisi\\.cmdstan\\RTools40\n"
     ]
    },
    {
     "name": "stdout",
     "output_type": "stream",
     "text": [
      "Installed mingw32-make.exe\n",
      "Installing CmdStan version: 2.36.0\n",
      "Downloading CmdStan version 2.36.0\n",
      "Download successful, file: C:\\Temp\\tmphtngo9yj\n",
      "Extracting distribution\n",
      "Unpacked download as cmdstan-2.36.0\n",
      "Building version cmdstan-2.36.0, may take several minutes, depending on your system.\n",
      "Installed cmdstan-2.36.0\n",
      "Test model compilation\n"
     ]
    },
    {
     "data": {
      "text/plain": [
       "True"
      ]
     },
     "execution_count": 3,
     "metadata": {},
     "output_type": "execute_result"
    }
   ],
   "source": []
  }
 ],
 "metadata": {
  "kernelspec": {
   "display_name": "Python 3 (ipykernel)",
   "language": "python",
   "name": "python3"
  },
  "language_info": {
   "codemirror_mode": {
    "name": "ipython",
    "version": 3
   },
   "file_extension": ".py",
   "mimetype": "text/x-python",
   "name": "python",
   "nbconvert_exporter": "python",
   "pygments_lexer": "ipython3",
   "version": "3.13.2"
  }
 },
 "nbformat": 4,
 "nbformat_minor": 5
}
