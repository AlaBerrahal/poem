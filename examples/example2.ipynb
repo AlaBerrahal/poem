{
 "cells": [
  {
   "cell_type": "markdown",
   "id": "b6371075",
   "metadata": {},
   "source": [
    "# Example 2 - energy signature with autocorrelation\n",
    "\n",
    "Problem description:\n",
    "* Workflow: simple fit\n",
    "* Object : whole building\n",
    "* Time step : week or day\n",
    "* Data: building 1298\n",
    "    * y = consumption\n",
    "    * x = outdoor air temperature\n",
    "\n",
    "Model: energy signature + MA"
   ]
  },
  {
   "cell_type": "code",
   "execution_count": 2,
   "id": "24d0d5a3",
   "metadata": {},
   "outputs": [],
   "source": [
    "import numpy as np\n",
    "import pandas as pd\n",
    "import matplotlib.pyplot as plt"
   ]
  },
  {
   "cell_type": "code",
   "execution_count": null,
   "id": "f7351e77",
   "metadata": {},
   "outputs": [],
   "source": []
  }
 ],
 "metadata": {
  "kernelspec": {
   "display_name": "Python 3 (ipykernel)",
   "language": "python",
   "name": "python3"
  },
  "language_info": {
   "codemirror_mode": {
    "name": "ipython",
    "version": 3
   },
   "file_extension": ".py",
   "mimetype": "text/x-python",
   "name": "python",
   "nbconvert_exporter": "python",
   "pygments_lexer": "ipython3",
   "version": "3.13.2"
  }
 },
 "nbformat": 4,
 "nbformat_minor": 5
}
