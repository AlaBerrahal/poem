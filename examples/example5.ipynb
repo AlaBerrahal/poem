{
 "cells": [
  {
   "cell_type": "markdown",
   "id": "ef2de12e-aa90-4dfc-89ae-20adb36f18d4",
   "metadata": {},
   "source": [
    "# Example 5 - state space model\n",
    "\n",
    "Problem description:\n",
    "* Workflow: simple fit\n",
    "* Object : thermal zone\n",
    "* Time step : hour\n",
    "* Data: SMETER\n",
    "\n",
    "Model: RC with pysip"
   ]
  }
 ],
 "metadata": {
  "kernelspec": {
   "display_name": "Python 3 (ipykernel)",
   "language": "python",
   "name": "python3"
  },
  "language_info": {
   "codemirror_mode": {
    "name": "ipython",
    "version": 3
   },
   "file_extension": ".py",
   "mimetype": "text/x-python",
   "name": "python",
   "nbconvert_exporter": "python",
   "pygments_lexer": "ipython3",
   "version": "3.13.2"
  }
 },
 "nbformat": 4,
 "nbformat_minor": 5
}
